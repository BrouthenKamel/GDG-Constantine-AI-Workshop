{
 "cells": [
  {
   "cell_type": "markdown",
   "metadata": {},
   "source": [
    "# Modules"
   ]
  },
  {
   "cell_type": "code",
   "execution_count": 20,
   "metadata": {},
   "outputs": [],
   "source": [
    "import pandas as pd\n",
    "\n",
    "from sklearn.model_selection import train_test_split\n",
    "from sklearn.preprocessing import StandardScaler\n",
    "\n",
    "import tensorflow as tf\n",
    "from tensorflow.keras.models import Sequential\n",
    "from tensorflow.keras.layers import Dense\n",
    "from tensorflow.keras.optimizers import Adam\n",
    "\n",
    "from sklearn.metrics import confusion_matrix, precision_score, recall_score, f1_score\n",
    "\n",
    "import matplotlib.pyplot as plt\n",
    "import seaborn as sns"
   ]
  },
  {
   "cell_type": "markdown",
   "metadata": {},
   "source": [
    "# Data Loading"
   ]
  },
  {
   "cell_type": "code",
   "execution_count": 21,
   "metadata": {},
   "outputs": [],
   "source": [
    "df = pd.read_csv('./dataset/diabetes_binary_balanced.csv')"
   ]
  },
  {
   "cell_type": "markdown",
   "metadata": {},
   "source": [
    "# Data Exploration"
   ]
  },
  {
   "cell_type": "code",
   "execution_count": 22,
   "metadata": {},
   "outputs": [
    {
     "data": {
      "text/html": [
       "<div>\n",
       "<style scoped>\n",
       "    .dataframe tbody tr th:only-of-type {\n",
       "        vertical-align: middle;\n",
       "    }\n",
       "\n",
       "    .dataframe tbody tr th {\n",
       "        vertical-align: top;\n",
       "    }\n",
       "\n",
       "    .dataframe thead th {\n",
       "        text-align: right;\n",
       "    }\n",
       "</style>\n",
       "<table border=\"1\" class=\"dataframe\">\n",
       "  <thead>\n",
       "    <tr style=\"text-align: right;\">\n",
       "      <th></th>\n",
       "      <th>Diabetes</th>\n",
       "      <th>HighBP</th>\n",
       "      <th>HighChol</th>\n",
       "      <th>CholCheck</th>\n",
       "      <th>BMI</th>\n",
       "      <th>Smoker</th>\n",
       "      <th>Stroke</th>\n",
       "      <th>HeartDiseaseOrAttack</th>\n",
       "      <th>PhysActivity</th>\n",
       "      <th>Fruits</th>\n",
       "      <th>...</th>\n",
       "      <th>AnyHealthcare</th>\n",
       "      <th>NoDocbcCost</th>\n",
       "      <th>GeneralHealth</th>\n",
       "      <th>MentalHealth</th>\n",
       "      <th>PhysicalHealth</th>\n",
       "      <th>DiffWalk</th>\n",
       "      <th>Sex</th>\n",
       "      <th>Age</th>\n",
       "      <th>Education</th>\n",
       "      <th>Income</th>\n",
       "    </tr>\n",
       "  </thead>\n",
       "  <tbody>\n",
       "    <tr>\n",
       "      <th>0</th>\n",
       "      <td>0.0</td>\n",
       "      <td>1</td>\n",
       "      <td>0.0</td>\n",
       "      <td>1</td>\n",
       "      <td>33.0</td>\n",
       "      <td>0.0</td>\n",
       "      <td>0.0</td>\n",
       "      <td>0.0</td>\n",
       "      <td>1</td>\n",
       "      <td>1</td>\n",
       "      <td>...</td>\n",
       "      <td>1</td>\n",
       "      <td>0.0</td>\n",
       "      <td>2.0</td>\n",
       "      <td>15.0</td>\n",
       "      <td>0.0</td>\n",
       "      <td>1.0</td>\n",
       "      <td>1</td>\n",
       "      <td>7</td>\n",
       "      <td>6.0</td>\n",
       "      <td>9.0</td>\n",
       "    </tr>\n",
       "    <tr>\n",
       "      <th>1</th>\n",
       "      <td>0.0</td>\n",
       "      <td>0</td>\n",
       "      <td>1.0</td>\n",
       "      <td>1</td>\n",
       "      <td>27.0</td>\n",
       "      <td>1.0</td>\n",
       "      <td>0.0</td>\n",
       "      <td>0.0</td>\n",
       "      <td>1</td>\n",
       "      <td>0</td>\n",
       "      <td>...</td>\n",
       "      <td>1</td>\n",
       "      <td>0.0</td>\n",
       "      <td>2.0</td>\n",
       "      <td>1.0</td>\n",
       "      <td>2.0</td>\n",
       "      <td>0.0</td>\n",
       "      <td>1</td>\n",
       "      <td>7</td>\n",
       "      <td>6.0</td>\n",
       "      <td>6.0</td>\n",
       "    </tr>\n",
       "    <tr>\n",
       "      <th>2</th>\n",
       "      <td>0.0</td>\n",
       "      <td>0</td>\n",
       "      <td>1.0</td>\n",
       "      <td>1</td>\n",
       "      <td>26.0</td>\n",
       "      <td>1.0</td>\n",
       "      <td>0.0</td>\n",
       "      <td>0.0</td>\n",
       "      <td>0</td>\n",
       "      <td>0</td>\n",
       "      <td>...</td>\n",
       "      <td>1</td>\n",
       "      <td>0.0</td>\n",
       "      <td>3.0</td>\n",
       "      <td>0.0</td>\n",
       "      <td>30.0</td>\n",
       "      <td>0.0</td>\n",
       "      <td>1</td>\n",
       "      <td>13</td>\n",
       "      <td>4.0</td>\n",
       "      <td>3.0</td>\n",
       "    </tr>\n",
       "    <tr>\n",
       "      <th>3</th>\n",
       "      <td>0.0</td>\n",
       "      <td>0</td>\n",
       "      <td>0.0</td>\n",
       "      <td>1</td>\n",
       "      <td>19.0</td>\n",
       "      <td>1.0</td>\n",
       "      <td>0.0</td>\n",
       "      <td>0.0</td>\n",
       "      <td>1</td>\n",
       "      <td>1</td>\n",
       "      <td>...</td>\n",
       "      <td>1</td>\n",
       "      <td>0.0</td>\n",
       "      <td>3.0</td>\n",
       "      <td>0.0</td>\n",
       "      <td>0.0</td>\n",
       "      <td>0.0</td>\n",
       "      <td>0</td>\n",
       "      <td>11</td>\n",
       "      <td>5.0</td>\n",
       "      <td>7.0</td>\n",
       "    </tr>\n",
       "    <tr>\n",
       "      <th>4</th>\n",
       "      <td>0.0</td>\n",
       "      <td>1</td>\n",
       "      <td>0.0</td>\n",
       "      <td>1</td>\n",
       "      <td>37.0</td>\n",
       "      <td>0.0</td>\n",
       "      <td>0.0</td>\n",
       "      <td>0.0</td>\n",
       "      <td>1</td>\n",
       "      <td>1</td>\n",
       "      <td>...</td>\n",
       "      <td>1</td>\n",
       "      <td>0.0</td>\n",
       "      <td>2.0</td>\n",
       "      <td>0.0</td>\n",
       "      <td>0.0</td>\n",
       "      <td>0.0</td>\n",
       "      <td>0</td>\n",
       "      <td>5</td>\n",
       "      <td>5.0</td>\n",
       "      <td>3.0</td>\n",
       "    </tr>\n",
       "  </tbody>\n",
       "</table>\n",
       "<p>5 rows × 22 columns</p>\n",
       "</div>"
      ],
      "text/plain": [
       "   Diabetes  HighBP  HighChol  CholCheck   BMI  Smoker  Stroke  \\\n",
       "0       0.0       1       0.0          1  33.0     0.0     0.0   \n",
       "1       0.0       0       1.0          1  27.0     1.0     0.0   \n",
       "2       0.0       0       1.0          1  26.0     1.0     0.0   \n",
       "3       0.0       0       0.0          1  19.0     1.0     0.0   \n",
       "4       0.0       1       0.0          1  37.0     0.0     0.0   \n",
       "\n",
       "   HeartDiseaseOrAttack  PhysActivity  Fruits  ...  AnyHealthcare  \\\n",
       "0                   0.0             1       1  ...              1   \n",
       "1                   0.0             1       0  ...              1   \n",
       "2                   0.0             0       0  ...              1   \n",
       "3                   0.0             1       1  ...              1   \n",
       "4                   0.0             1       1  ...              1   \n",
       "\n",
       "   NoDocbcCost  GeneralHealth  MentalHealth  PhysicalHealth  DiffWalk  Sex  \\\n",
       "0          0.0            2.0          15.0             0.0       1.0    1   \n",
       "1          0.0            2.0           1.0             2.0       0.0    1   \n",
       "2          0.0            3.0           0.0            30.0       0.0    1   \n",
       "3          0.0            3.0           0.0             0.0       0.0    0   \n",
       "4          0.0            2.0           0.0             0.0       0.0    0   \n",
       "\n",
       "   Age  Education  Income  \n",
       "0    7        6.0     9.0  \n",
       "1    7        6.0     6.0  \n",
       "2   13        4.0     3.0  \n",
       "3   11        5.0     7.0  \n",
       "4    5        5.0     3.0  \n",
       "\n",
       "[5 rows x 22 columns]"
      ]
     },
     "execution_count": 22,
     "metadata": {},
     "output_type": "execute_result"
    }
   ],
   "source": [
    "df.head()"
   ]
  },
  {
   "cell_type": "code",
   "execution_count": 23,
   "metadata": {},
   "outputs": [
    {
     "name": "stdout",
     "output_type": "stream",
     "text": [
      "<class 'pandas.core.frame.DataFrame'>\n",
      "RangeIndex: 67136 entries, 0 to 67135\n",
      "Data columns (total 22 columns):\n",
      " #   Column                Non-Null Count  Dtype  \n",
      "---  ------                --------------  -----  \n",
      " 0   Diabetes              67136 non-null  float64\n",
      " 1   HighBP                67136 non-null  int64  \n",
      " 2   HighChol              67136 non-null  float64\n",
      " 3   CholCheck             67136 non-null  int64  \n",
      " 4   BMI                   67136 non-null  float64\n",
      " 5   Smoker                67136 non-null  float64\n",
      " 6   Stroke                67136 non-null  float64\n",
      " 7   HeartDiseaseOrAttack  67136 non-null  float64\n",
      " 8   PhysActivity          67136 non-null  int64  \n",
      " 9   Fruits                67136 non-null  int64  \n",
      " 10  Veggies               67136 non-null  int64  \n",
      " 11  Alcoholic             67136 non-null  int64  \n",
      " 12  AnyHealthcare         67136 non-null  int64  \n",
      " 13  NoDocbcCost           67136 non-null  float64\n",
      " 14  GeneralHealth         67136 non-null  float64\n",
      " 15  MentalHealth          67136 non-null  float64\n",
      " 16  PhysicalHealth        67136 non-null  float64\n",
      " 17  DiffWalk              67136 non-null  float64\n",
      " 18  Sex                   67136 non-null  int64  \n",
      " 19  Age                   67136 non-null  int64  \n",
      " 20  Education             67136 non-null  float64\n",
      " 21  Income                67136 non-null  float64\n",
      "dtypes: float64(13), int64(9)\n",
      "memory usage: 11.3 MB\n"
     ]
    }
   ],
   "source": [
    "df.info()"
   ]
  },
  {
   "cell_type": "code",
   "execution_count": 24,
   "metadata": {},
   "outputs": [
    {
     "data": {
      "text/html": [
       "<div>\n",
       "<style scoped>\n",
       "    .dataframe tbody tr th:only-of-type {\n",
       "        vertical-align: middle;\n",
       "    }\n",
       "\n",
       "    .dataframe tbody tr th {\n",
       "        vertical-align: top;\n",
       "    }\n",
       "\n",
       "    .dataframe thead th {\n",
       "        text-align: right;\n",
       "    }\n",
       "</style>\n",
       "<table border=\"1\" class=\"dataframe\">\n",
       "  <thead>\n",
       "    <tr style=\"text-align: right;\">\n",
       "      <th></th>\n",
       "      <th>Diabetes</th>\n",
       "      <th>HighBP</th>\n",
       "      <th>HighChol</th>\n",
       "      <th>CholCheck</th>\n",
       "      <th>BMI</th>\n",
       "      <th>Smoker</th>\n",
       "      <th>Stroke</th>\n",
       "      <th>HeartDiseaseOrAttack</th>\n",
       "      <th>PhysActivity</th>\n",
       "      <th>Fruits</th>\n",
       "      <th>...</th>\n",
       "      <th>AnyHealthcare</th>\n",
       "      <th>NoDocbcCost</th>\n",
       "      <th>GeneralHealth</th>\n",
       "      <th>MentalHealth</th>\n",
       "      <th>PhysicalHealth</th>\n",
       "      <th>DiffWalk</th>\n",
       "      <th>Sex</th>\n",
       "      <th>Age</th>\n",
       "      <th>Education</th>\n",
       "      <th>Income</th>\n",
       "    </tr>\n",
       "  </thead>\n",
       "  <tbody>\n",
       "    <tr>\n",
       "      <th>count</th>\n",
       "      <td>67136.000000</td>\n",
       "      <td>67136.000000</td>\n",
       "      <td>67136.000000</td>\n",
       "      <td>67136.000000</td>\n",
       "      <td>67136.000000</td>\n",
       "      <td>67136.000000</td>\n",
       "      <td>67136.000000</td>\n",
       "      <td>67136.000000</td>\n",
       "      <td>67136.000000</td>\n",
       "      <td>67136.000000</td>\n",
       "      <td>...</td>\n",
       "      <td>67136.000000</td>\n",
       "      <td>67136.000000</td>\n",
       "      <td>67136.000000</td>\n",
       "      <td>67136.000000</td>\n",
       "      <td>67136.000000</td>\n",
       "      <td>67136.000000</td>\n",
       "      <td>67136.000000</td>\n",
       "      <td>67136.000000</td>\n",
       "      <td>67136.000000</td>\n",
       "      <td>67136.000000</td>\n",
       "    </tr>\n",
       "    <tr>\n",
       "      <th>mean</th>\n",
       "      <td>0.500000</td>\n",
       "      <td>0.548320</td>\n",
       "      <td>0.500238</td>\n",
       "      <td>0.976227</td>\n",
       "      <td>30.288340</td>\n",
       "      <td>0.440151</td>\n",
       "      <td>0.058866</td>\n",
       "      <td>0.136633</td>\n",
       "      <td>0.717260</td>\n",
       "      <td>0.605919</td>\n",
       "      <td>...</td>\n",
       "      <td>0.967260</td>\n",
       "      <td>0.066522</td>\n",
       "      <td>2.774756</td>\n",
       "      <td>4.230845</td>\n",
       "      <td>5.136752</td>\n",
       "      <td>0.231202</td>\n",
       "      <td>0.493431</td>\n",
       "      <td>8.501743</td>\n",
       "      <td>5.035912</td>\n",
       "      <td>6.563885</td>\n",
       "    </tr>\n",
       "    <tr>\n",
       "      <th>std</th>\n",
       "      <td>0.500004</td>\n",
       "      <td>0.497663</td>\n",
       "      <td>0.500004</td>\n",
       "      <td>0.152341</td>\n",
       "      <td>7.095737</td>\n",
       "      <td>0.496409</td>\n",
       "      <td>0.235375</td>\n",
       "      <td>0.343462</td>\n",
       "      <td>0.450334</td>\n",
       "      <td>0.488656</td>\n",
       "      <td>...</td>\n",
       "      <td>0.177955</td>\n",
       "      <td>0.249194</td>\n",
       "      <td>1.073759</td>\n",
       "      <td>8.323138</td>\n",
       "      <td>9.593837</td>\n",
       "      <td>0.421605</td>\n",
       "      <td>0.499961</td>\n",
       "      <td>3.019624</td>\n",
       "      <td>0.981610</td>\n",
       "      <td>2.422641</td>\n",
       "    </tr>\n",
       "    <tr>\n",
       "      <th>min</th>\n",
       "      <td>0.000000</td>\n",
       "      <td>0.000000</td>\n",
       "      <td>0.000000</td>\n",
       "      <td>0.000000</td>\n",
       "      <td>12.000000</td>\n",
       "      <td>0.000000</td>\n",
       "      <td>0.000000</td>\n",
       "      <td>0.000000</td>\n",
       "      <td>0.000000</td>\n",
       "      <td>0.000000</td>\n",
       "      <td>...</td>\n",
       "      <td>0.000000</td>\n",
       "      <td>0.000000</td>\n",
       "      <td>1.000000</td>\n",
       "      <td>0.000000</td>\n",
       "      <td>0.000000</td>\n",
       "      <td>0.000000</td>\n",
       "      <td>0.000000</td>\n",
       "      <td>1.000000</td>\n",
       "      <td>1.000000</td>\n",
       "      <td>1.000000</td>\n",
       "    </tr>\n",
       "    <tr>\n",
       "      <th>25%</th>\n",
       "      <td>0.000000</td>\n",
       "      <td>0.000000</td>\n",
       "      <td>0.000000</td>\n",
       "      <td>1.000000</td>\n",
       "      <td>26.000000</td>\n",
       "      <td>0.000000</td>\n",
       "      <td>0.000000</td>\n",
       "      <td>0.000000</td>\n",
       "      <td>0.000000</td>\n",
       "      <td>0.000000</td>\n",
       "      <td>...</td>\n",
       "      <td>1.000000</td>\n",
       "      <td>0.000000</td>\n",
       "      <td>2.000000</td>\n",
       "      <td>0.000000</td>\n",
       "      <td>0.000000</td>\n",
       "      <td>0.000000</td>\n",
       "      <td>0.000000</td>\n",
       "      <td>7.000000</td>\n",
       "      <td>4.000000</td>\n",
       "      <td>5.000000</td>\n",
       "    </tr>\n",
       "    <tr>\n",
       "      <th>50%</th>\n",
       "      <td>0.500000</td>\n",
       "      <td>1.000000</td>\n",
       "      <td>1.000000</td>\n",
       "      <td>1.000000</td>\n",
       "      <td>29.000000</td>\n",
       "      <td>0.000000</td>\n",
       "      <td>0.000000</td>\n",
       "      <td>0.000000</td>\n",
       "      <td>1.000000</td>\n",
       "      <td>1.000000</td>\n",
       "      <td>...</td>\n",
       "      <td>1.000000</td>\n",
       "      <td>0.000000</td>\n",
       "      <td>3.000000</td>\n",
       "      <td>0.000000</td>\n",
       "      <td>0.000000</td>\n",
       "      <td>0.000000</td>\n",
       "      <td>0.000000</td>\n",
       "      <td>9.000000</td>\n",
       "      <td>5.000000</td>\n",
       "      <td>7.000000</td>\n",
       "    </tr>\n",
       "    <tr>\n",
       "      <th>75%</th>\n",
       "      <td>1.000000</td>\n",
       "      <td>1.000000</td>\n",
       "      <td>1.000000</td>\n",
       "      <td>1.000000</td>\n",
       "      <td>34.000000</td>\n",
       "      <td>1.000000</td>\n",
       "      <td>0.000000</td>\n",
       "      <td>0.000000</td>\n",
       "      <td>1.000000</td>\n",
       "      <td>1.000000</td>\n",
       "      <td>...</td>\n",
       "      <td>1.000000</td>\n",
       "      <td>0.000000</td>\n",
       "      <td>3.000000</td>\n",
       "      <td>4.000000</td>\n",
       "      <td>5.000000</td>\n",
       "      <td>0.000000</td>\n",
       "      <td>1.000000</td>\n",
       "      <td>11.000000</td>\n",
       "      <td>6.000000</td>\n",
       "      <td>8.000000</td>\n",
       "    </tr>\n",
       "    <tr>\n",
       "      <th>max</th>\n",
       "      <td>1.000000</td>\n",
       "      <td>1.000000</td>\n",
       "      <td>1.000000</td>\n",
       "      <td>1.000000</td>\n",
       "      <td>99.000000</td>\n",
       "      <td>1.000000</td>\n",
       "      <td>1.000000</td>\n",
       "      <td>1.000000</td>\n",
       "      <td>1.000000</td>\n",
       "      <td>1.000000</td>\n",
       "      <td>...</td>\n",
       "      <td>1.000000</td>\n",
       "      <td>1.000000</td>\n",
       "      <td>5.000000</td>\n",
       "      <td>30.000000</td>\n",
       "      <td>30.000000</td>\n",
       "      <td>1.000000</td>\n",
       "      <td>1.000000</td>\n",
       "      <td>13.000000</td>\n",
       "      <td>6.000000</td>\n",
       "      <td>11.000000</td>\n",
       "    </tr>\n",
       "  </tbody>\n",
       "</table>\n",
       "<p>8 rows × 22 columns</p>\n",
       "</div>"
      ],
      "text/plain": [
       "           Diabetes        HighBP      HighChol     CholCheck           BMI  \\\n",
       "count  67136.000000  67136.000000  67136.000000  67136.000000  67136.000000   \n",
       "mean       0.500000      0.548320      0.500238      0.976227     30.288340   \n",
       "std        0.500004      0.497663      0.500004      0.152341      7.095737   \n",
       "min        0.000000      0.000000      0.000000      0.000000     12.000000   \n",
       "25%        0.000000      0.000000      0.000000      1.000000     26.000000   \n",
       "50%        0.500000      1.000000      1.000000      1.000000     29.000000   \n",
       "75%        1.000000      1.000000      1.000000      1.000000     34.000000   \n",
       "max        1.000000      1.000000      1.000000      1.000000     99.000000   \n",
       "\n",
       "             Smoker        Stroke  HeartDiseaseOrAttack  PhysActivity  \\\n",
       "count  67136.000000  67136.000000          67136.000000  67136.000000   \n",
       "mean       0.440151      0.058866              0.136633      0.717260   \n",
       "std        0.496409      0.235375              0.343462      0.450334   \n",
       "min        0.000000      0.000000              0.000000      0.000000   \n",
       "25%        0.000000      0.000000              0.000000      0.000000   \n",
       "50%        0.000000      0.000000              0.000000      1.000000   \n",
       "75%        1.000000      0.000000              0.000000      1.000000   \n",
       "max        1.000000      1.000000              1.000000      1.000000   \n",
       "\n",
       "             Fruits  ...  AnyHealthcare   NoDocbcCost  GeneralHealth  \\\n",
       "count  67136.000000  ...   67136.000000  67136.000000   67136.000000   \n",
       "mean       0.605919  ...       0.967260      0.066522       2.774756   \n",
       "std        0.488656  ...       0.177955      0.249194       1.073759   \n",
       "min        0.000000  ...       0.000000      0.000000       1.000000   \n",
       "25%        0.000000  ...       1.000000      0.000000       2.000000   \n",
       "50%        1.000000  ...       1.000000      0.000000       3.000000   \n",
       "75%        1.000000  ...       1.000000      0.000000       3.000000   \n",
       "max        1.000000  ...       1.000000      1.000000       5.000000   \n",
       "\n",
       "       MentalHealth  PhysicalHealth      DiffWalk           Sex           Age  \\\n",
       "count  67136.000000    67136.000000  67136.000000  67136.000000  67136.000000   \n",
       "mean       4.230845        5.136752      0.231202      0.493431      8.501743   \n",
       "std        8.323138        9.593837      0.421605      0.499961      3.019624   \n",
       "min        0.000000        0.000000      0.000000      0.000000      1.000000   \n",
       "25%        0.000000        0.000000      0.000000      0.000000      7.000000   \n",
       "50%        0.000000        0.000000      0.000000      0.000000      9.000000   \n",
       "75%        4.000000        5.000000      0.000000      1.000000     11.000000   \n",
       "max       30.000000       30.000000      1.000000      1.000000     13.000000   \n",
       "\n",
       "          Education        Income  \n",
       "count  67136.000000  67136.000000  \n",
       "mean       5.035912      6.563885  \n",
       "std        0.981610      2.422641  \n",
       "min        1.000000      1.000000  \n",
       "25%        4.000000      5.000000  \n",
       "50%        5.000000      7.000000  \n",
       "75%        6.000000      8.000000  \n",
       "max        6.000000     11.000000  \n",
       "\n",
       "[8 rows x 22 columns]"
      ]
     },
     "execution_count": 24,
     "metadata": {},
     "output_type": "execute_result"
    }
   ],
   "source": [
    "df.describe()"
   ]
  },
  {
   "cell_type": "markdown",
   "metadata": {},
   "source": [
    "# Data Preprocessing"
   ]
  },
  {
   "cell_type": "code",
   "execution_count": 25,
   "metadata": {},
   "outputs": [],
   "source": [
    "cols_to_scale = [\"BMI\", \"GeneralHealth\", \"MentalHealth\", \"PhysicalHealth\", \"Age\", \"Education\", \"Income\"]"
   ]
  },
  {
   "cell_type": "code",
   "execution_count": 26,
   "metadata": {},
   "outputs": [],
   "source": [
    "X = df.drop('Diabetes', axis=1)\n",
    "y = df[\"Diabetes\"]"
   ]
  },
  {
   "cell_type": "code",
   "execution_count": 27,
   "metadata": {},
   "outputs": [
    {
     "data": {
      "text/plain": [
       "((67136, 21), (67136,))"
      ]
     },
     "execution_count": 27,
     "metadata": {},
     "output_type": "execute_result"
    }
   ],
   "source": [
    "X.shape, y.shape"
   ]
  },
  {
   "cell_type": "code",
   "execution_count": 28,
   "metadata": {},
   "outputs": [],
   "source": [
    "X_train, X_test, y_train, y_test = train_test_split(X, y, test_size=0.1, stratify=y, random_state=42)"
   ]
  },
  {
   "cell_type": "code",
   "execution_count": 29,
   "metadata": {},
   "outputs": [
    {
     "data": {
      "text/plain": [
       "((60422, 21), (6714, 21), (60422,), (6714,))"
      ]
     },
     "execution_count": 29,
     "metadata": {},
     "output_type": "execute_result"
    }
   ],
   "source": [
    "X_train.shape, X_test.shape, y_train.shape, y_test.shape"
   ]
  },
  {
   "cell_type": "code",
   "execution_count": 30,
   "metadata": {},
   "outputs": [],
   "source": [
    "scaler = StandardScaler()\n",
    "\n",
    "X_train_scaled_features = scaler.fit_transform(X_train[cols_to_scale])\n",
    "X_test_scaled_features = scaler.transform(X_test[cols_to_scale])"
   ]
  },
  {
   "cell_type": "code",
   "execution_count": 31,
   "metadata": {},
   "outputs": [
    {
     "data": {
      "text/plain": [
       "((60422, 7), (6714, 7))"
      ]
     },
     "execution_count": 31,
     "metadata": {},
     "output_type": "execute_result"
    }
   ],
   "source": [
    "X_train_scaled_features.shape, X_test_scaled_features.shape"
   ]
  },
  {
   "cell_type": "code",
   "execution_count": 32,
   "metadata": {},
   "outputs": [],
   "source": [
    "X_train_non_scaled = X_train.drop(cols_to_scale, axis=1).reset_index(drop=True)\n",
    "X_train_scaled_df = pd.DataFrame(X_train_scaled_features, columns=cols_to_scale).reset_index(drop=True)\n",
    "X_train_processed = pd.concat([X_train_non_scaled, X_train_scaled_df], axis=1)\n",
    "\n",
    "X_test_non_scaled = X_test.drop(cols_to_scale, axis=1).reset_index(drop=True)\n",
    "X_test_scaled_df = pd.DataFrame(X_test_scaled_features, columns=cols_to_scale).reset_index(drop=True)\n",
    "X_test_processed = pd.concat([X_test_non_scaled, X_test_scaled_df], axis=1)"
   ]
  },
  {
   "cell_type": "code",
   "execution_count": 33,
   "metadata": {},
   "outputs": [
    {
     "data": {
      "text/plain": [
       "((60422, 21), (6714, 21))"
      ]
     },
     "execution_count": 33,
     "metadata": {},
     "output_type": "execute_result"
    }
   ],
   "source": [
    "X_train_processed.shape, X_test_processed.shape"
   ]
  },
  {
   "cell_type": "markdown",
   "metadata": {},
   "source": [
    "# Data Modeling"
   ]
  },
  {
   "cell_type": "code",
   "execution_count": 34,
   "metadata": {},
   "outputs": [],
   "source": [
    "model = Sequential([\n",
    "    Dense(64, activation='relu', input_shape=(X_train_processed.shape[1],)),\n",
    "    Dense(32, activation='relu'),\n",
    "    Dense(1, activation='sigmoid')\n",
    "])"
   ]
  },
  {
   "cell_type": "code",
   "execution_count": 35,
   "metadata": {},
   "outputs": [],
   "source": [
    "model.compile(\n",
    "    loss='binary_crossentropy',\n",
    "    optimizer=Adam(learning_rate=1e-4),\n",
    "    metrics=['accuracy']\n",
    ")"
   ]
  },
  {
   "cell_type": "code",
   "execution_count": 36,
   "metadata": {},
   "outputs": [
    {
     "name": "stdout",
     "output_type": "stream",
     "text": [
      "Model: \"sequential_1\"\n",
      "_________________________________________________________________\n",
      " Layer (type)                Output Shape              Param #   \n",
      "=================================================================\n",
      " dense_3 (Dense)             (None, 64)                1408      \n",
      "                                                                 \n",
      " dense_4 (Dense)             (None, 32)                2080      \n",
      "                                                                 \n",
      " dense_5 (Dense)             (None, 1)                 33        \n",
      "                                                                 \n",
      "=================================================================\n",
      "Total params: 3,521\n",
      "Trainable params: 3,521\n",
      "Non-trainable params: 0\n",
      "_________________________________________________________________\n"
     ]
    }
   ],
   "source": [
    "model.summary()"
   ]
  },
  {
   "cell_type": "markdown",
   "metadata": {},
   "source": [
    "# Model Training"
   ]
  },
  {
   "cell_type": "code",
   "execution_count": 37,
   "metadata": {},
   "outputs": [
    {
     "name": "stdout",
     "output_type": "stream",
     "text": [
      "Epoch 1/12\n",
      "756/756 [==============================] - 3s 3ms/step - loss: 0.5689 - accuracy: 0.7094 - val_loss: 0.5389 - val_accuracy: 0.7283\n",
      "Epoch 2/12\n",
      "756/756 [==============================] - 2s 3ms/step - loss: 0.5244 - accuracy: 0.7414 - val_loss: 0.5308 - val_accuracy: 0.7322\n",
      "Epoch 3/12\n",
      "756/756 [==============================] - 2s 3ms/step - loss: 0.5191 - accuracy: 0.7447 - val_loss: 0.5276 - val_accuracy: 0.7348\n",
      "Epoch 4/12\n",
      "756/756 [==============================] - 2s 3ms/step - loss: 0.5164 - accuracy: 0.7463 - val_loss: 0.5258 - val_accuracy: 0.7354\n",
      "Epoch 5/12\n",
      "756/756 [==============================] - 2s 3ms/step - loss: 0.5144 - accuracy: 0.7469 - val_loss: 0.5247 - val_accuracy: 0.7364\n",
      "Epoch 6/12\n",
      "756/756 [==============================] - 2s 3ms/step - loss: 0.5133 - accuracy: 0.7477 - val_loss: 0.5237 - val_accuracy: 0.7382\n",
      "Epoch 7/12\n",
      "756/756 [==============================] - 2s 3ms/step - loss: 0.5123 - accuracy: 0.7485 - val_loss: 0.5238 - val_accuracy: 0.7379\n",
      "Epoch 8/12\n",
      "756/756 [==============================] - 2s 3ms/step - loss: 0.5116 - accuracy: 0.7488 - val_loss: 0.5227 - val_accuracy: 0.7377\n",
      "Epoch 9/12\n",
      "756/756 [==============================] - 2s 3ms/step - loss: 0.5110 - accuracy: 0.7493 - val_loss: 0.5226 - val_accuracy: 0.7379\n",
      "Epoch 10/12\n",
      "756/756 [==============================] - 2s 3ms/step - loss: 0.5105 - accuracy: 0.7496 - val_loss: 0.5225 - val_accuracy: 0.7374\n",
      "Epoch 11/12\n",
      "756/756 [==============================] - 2s 3ms/step - loss: 0.5099 - accuracy: 0.7499 - val_loss: 0.5232 - val_accuracy: 0.7380\n",
      "Epoch 12/12\n",
      "756/756 [==============================] - 2s 3ms/step - loss: 0.5096 - accuracy: 0.7499 - val_loss: 0.5222 - val_accuracy: 0.7382\n"
     ]
    }
   ],
   "source": [
    "history = model.fit(\n",
    "    X_train_processed,\n",
    "    y_train,\n",
    "    epochs=12,\n",
    "    batch_size=64,\n",
    "    validation_split=0.2\n",
    ")"
   ]
  },
  {
   "cell_type": "markdown",
   "metadata": {},
   "source": [
    "# Model Evaluation"
   ]
  },
  {
   "cell_type": "code",
   "execution_count": 38,
   "metadata": {},
   "outputs": [],
   "source": [
    "def plot_training_history(history):\n",
    "    train_loss = history.history['loss']\n",
    "    train_acc = history.history['accuracy']\n",
    "    val_loss = history.history['val_loss']\n",
    "    val_acc = history.history['val_accuracy']\n",
    "\n",
    "    plt.figure(figsize=(12, 6))\n",
    "    plt.subplot(1, 2, 1)\n",
    "    plt.plot(train_loss, label='Training Loss')\n",
    "    plt.plot(val_loss, label='Validation Loss')\n",
    "    plt.title('Training and Validation Loss')\n",
    "    plt.xlabel('Epoch')\n",
    "    plt.ylabel('Loss')\n",
    "    plt.legend()\n",
    "\n",
    "    plt.subplot(1, 2, 2)\n",
    "    plt.plot(train_acc, label='Training Accuracy')\n",
    "    plt.plot(val_acc, label='Validation Accuracy')\n",
    "    plt.title('Training and Validation Accuracy')\n",
    "    plt.xlabel('Epoch')\n",
    "    plt.ylabel('Accuracy')\n",
    "    plt.legend()\n",
    "\n",
    "    plt.tight_layout()\n",
    "    plt.show()"
   ]
  },
  {
   "cell_type": "code",
   "execution_count": 39,
   "metadata": {},
   "outputs": [
    {
     "data": {
      "image/png": "[encoded data removed]",
      "text/plain": [
       "<Figure size 1200x600 with 2 Axes>"
      ]
     },
     "metadata": {},
     "output_type": "display_data"
    }
   ],
   "source": [
    "plot_training_history(history)"
   ]
  },
  {
   "cell_type": "code",
   "execution_count": 40,
   "metadata": {},
   "outputs": [
    {
     "name": "stdout",
     "output_type": "stream",
     "text": [
      "210/210 [==============================] - 0s 1ms/step\n"
     ]
    },
    {
     "data": {
      "image/png": "[encoded data removed]",
      "text/plain": [
       "<Figure size 600x400 with 2 Axes>"
      ]
     },
     "metadata": {},
     "output_type": "display_data"
    },
    {
     "name": "stdout",
     "output_type": "stream",
     "text": [
      "Precision: 0.7237\n",
      "Recall: 0.7778\n",
      "F1 Score: 0.7497\n"
     ]
    }
   ],
   "source": [
    "y_pred = model.predict(X_test_processed)\n",
    "\n",
    "y_pred_classes = (y_pred[:, 0] > 0.5).astype(int)\n",
    "y_test_classes = y_test\n",
    "\n",
    "conf_mat = confusion_matrix(y_test_classes, y_pred_classes)\n",
    "precision = precision_score(y_test_classes, y_pred_classes)\n",
    "recall = recall_score(y_test_classes, y_pred_classes)\n",
    "f1 = f1_score(y_test_classes, y_pred_classes)\n",
    "\n",
    "plt.figure(figsize=(6, 4))\n",
    "sns.heatmap(conf_mat, annot=True, fmt='d', cmap='Blues', xticklabels=['Negative', 'Positive'], yticklabels=['Negative', 'Positive'])\n",
    "plt.xlabel('Predicted')\n",
    "plt.ylabel('True')\n",
    "plt.title('Confusion Matrix')\n",
    "plt.show()\n",
    "\n",
    "print(f'Precision: {precision:.4f}')\n",
    "print(f'Recall: {recall:.4f}')\n",
    "print(f'F1 Score: {f1:.4f}')"
   ]
  }
 ],
 "metadata": {
  "kernelspec": {
   "display_name": "ai_env_py3_9",
   "language": "python",
   "name": "python3"
  },
  "language_info": {
   "codemirror_mode": {
    "name": "ipython",
    "version": 3
   },
   "file_extension": ".py",
   "mimetype": "text/x-python",
   "name": "python",
   "nbconvert_exporter": "python",
   "pygments_lexer": "ipython3",
   "version": "3.9.16"
  }
 },
 "nbformat": 4,
 "nbformat_minor": 2
}
